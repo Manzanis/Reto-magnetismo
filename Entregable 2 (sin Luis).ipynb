{
 "cells": [
  {
   "cell_type": "code",
   "execution_count": 12,
   "metadata": {},
   "outputs": [],
   "source": [
    "import numpy as np\n",
    "import matplotlib.pyplot as plt\n",
    "from prettytable import PrettyTable"
   ]
  },
  {
   "cell_type": "code",
   "execution_count": 2,
   "metadata": {},
   "outputs": [],
   "source": [
    "def euler_step (xn,yn,f,h):\n",
    "    pendiente=f(xn,yn)\n",
    "    newx=xn+h\n",
    "    newy=yn+h*(f(xn,yn))\n",
    "    \n",
    "    \n",
    "    return newx, newy"
   ]
  },
  {
   "cell_type": "code",
   "execution_count": 3,
   "metadata": {},
   "outputs": [
    {
     "name": "stdout",
     "output_type": "stream",
     "text": [
      "(1, -3.6)\n"
     ]
    }
   ],
   "source": [
    "x0=0\n",
    "y0=-3\n",
    "def f(x,y):\n",
    "    return x+(1/5)*y\n",
    "h=1\n",
    "\n",
    "print(euler_step(x0,y0,f,h))"
   ]
  },
  {
   "cell_type": "code",
   "execution_count": 4,
   "metadata": {},
   "outputs": [],
   "source": [
    "def euler_method(xn,yn,xgoal,f,h):\n",
    "    listax=[xn]\n",
    "    listay=[yn]\n",
    "    \n",
    "    while(xn<=xgoal):\n",
    "        xn, yn= euler_step(xn,yn,f,h)\n",
    "        listax.append(xn)\n",
    "        listay.append(yn)\n",
    "    return listax,listay"
   ]
  },
  {
   "cell_type": "code",
   "execution_count": 5,
   "metadata": {},
   "outputs": [
    {
     "name": "stdout",
     "output_type": "stream",
     "text": [
      "([0, 1, 2, 3, 4, 5, 6], [-3, -3.6, -3.3200000000000003, -1.9840000000000004, 0.6191999999999993, 4.743039999999999, 10.691647999999999])\n"
     ]
    }
   ],
   "source": [
    "x0=0\n",
    "y0=-3\n",
    "def f(x,y):\n",
    "    return x+(1/5)*y\n",
    "h=1\n",
    "xgoal=5\n",
    "\n",
    "print(euler_method(x0,y0,xgoal,f,h))"
   ]
  },
  {
   "cell_type": "markdown",
   "metadata": {},
   "source": [
    "# Runge-Kutta"
   ]
  },
  {
   "cell_type": "code",
   "execution_count": 6,
   "metadata": {},
   "outputs": [],
   "source": [
    "def rungekutta_step(xn,yn,f,h):\n",
    "    k1=f(xn,yn)\n",
    "    k2=f(xn+(h/2),yn+(k1*(h/2)))\n",
    "    k3=f(xn+(h/2),yn+(k2*(h/2)))\n",
    "    k4=f(xn+h,yn+(h*k3))\n",
    "    \n",
    "    newx=xn+h\n",
    "    newy=yn+(h/6)*(k1+2*k2+2*k3+k4)\n",
    "    \n",
    "    return newx, newy"
   ]
  },
  {
   "cell_type": "code",
   "execution_count": 7,
   "metadata": {},
   "outputs": [],
   "source": [
    "def f(x,y):\n",
    "    return x + y\n",
    "\n",
    "x0 = 0\n",
    "y0 = 1\n",
    "h = 0.5\n"
   ]
  },
  {
   "cell_type": "code",
   "execution_count": 8,
   "metadata": {},
   "outputs": [
    {
     "name": "stdout",
     "output_type": "stream",
     "text": [
      "x_1 = 0.5\n",
      "y_1 = 1.796875\n"
     ]
    }
   ],
   "source": [
    "x_1_test, y_1_test = rungekutta_step(x0,y0,f,h)\n",
    "print(f\"x_1 = {x_1_test}\\ny_1 = {y_1_test}\")"
   ]
  },
  {
   "cell_type": "code",
   "execution_count": 9,
   "metadata": {},
   "outputs": [],
   "source": [
    "def rungekutta_method(xn,yn,xgoal,f,h):\n",
    "    listax=[xn]\n",
    "    listay=[yn]\n",
    "    \n",
    "    while(xn<=xgoal):\n",
    "        xn, yn= rungekutta_step(xn,yn,f,h)\n",
    "        listax.append(xn)\n",
    "        listay.append(yn)\n",
    "    return listax,listay"
   ]
  },
  {
   "cell_type": "code",
   "execution_count": 10,
   "metadata": {},
   "outputs": [],
   "source": [
    "x0 = 0\n",
    "y0 = 1\n",
    "h = 0.1\n",
    "x_goal = 1\n",
    "\n",
    "\n",
    "x_list, y_list = rungekutta_method(x0,y0,xgoal,f,h)"
   ]
  },
  {
   "cell_type": "code",
   "execution_count": 11,
   "metadata": {},
   "outputs": [
    {
     "name": "stdout",
     "output_type": "stream",
     "text": [
      "+---------+------------+\n",
      "| Field 1 |  Field 2   |\n",
      "+---------+------------+\n",
      "|   0.00  |  1.000000  |\n",
      "|   0.10  |  1.110342  |\n",
      "|   0.20  |  1.242805  |\n",
      "|   0.30  |  1.399717  |\n",
      "|   0.40  |  1.583648  |\n",
      "|   0.50  |  1.797441  |\n",
      "|   0.60  |  2.044236  |\n",
      "|   0.70  |  2.327503  |\n",
      "|   0.80  |  2.651079  |\n",
      "|   0.90  |  3.019203  |\n",
      "|   1.00  |  3.436559  |\n",
      "|   1.10  |  3.908327  |\n",
      "|   1.20  |  4.440228  |\n",
      "|   1.30  |  5.038586  |\n",
      "|   1.40  |  5.710391  |\n",
      "|   1.50  |  6.463368  |\n",
      "|   1.60  |  7.306053  |\n",
      "|   1.70  |  8.247881  |\n",
      "|   1.80  |  9.299278  |\n",
      "|   1.90  | 10.471769  |\n",
      "|   2.00  | 11.778090  |\n",
      "|   2.10  | 13.232314  |\n",
      "|   2.20  | 14.849997  |\n",
      "|   2.30  | 16.648330  |\n",
      "|   2.40  | 18.646312  |\n",
      "|   2.50  | 20.864941  |\n",
      "|   2.60  | 23.327422  |\n",
      "|   2.70  | 26.059402  |\n",
      "|   2.80  | 29.089223  |\n",
      "|   2.90  | 32.448210  |\n",
      "|   3.00  | 36.170981  |\n",
      "|   3.10  | 40.295797  |\n",
      "|   3.20  | 44.864940  |\n",
      "|   3.30  | 49.925141  |\n",
      "|   3.40  | 55.528044  |\n",
      "|   3.50  | 61.730726  |\n",
      "|   3.60  | 68.596267  |\n",
      "|   3.70  | 76.194379  |\n",
      "|   3.80  | 84.602108  |\n",
      "|   3.90  | 93.904603  |\n",
      "|   4.00  | 104.195965 |\n",
      "|   4.10  | 115.580196 |\n",
      "|   4.20  | 128.172233 |\n",
      "|   4.30  | 142.099101 |\n",
      "|   4.40  | 157.501188 |\n",
      "|   4.50  | 174.533641 |\n",
      "|   4.60  | 193.367929 |\n",
      "|   4.70  | 214.193552 |\n",
      "|   4.80  | 237.219941 |\n",
      "|   4.90  | 262.678550 |\n",
      "|   5.00  | 290.825180 |\n",
      "|   5.10  | 321.942532 |\n",
      "+---------+------------+\n"
     ]
    }
   ],
   "source": [
    "mytable = PrettyTable()\n",
    "\n",
    "for x,y in zip(x_list,y_list):\n",
    "    mytable.add_row([\"{:0.2f}\".format(x),\"{:0.6f}\".format(y)])\n",
    "print(mytable)"
   ]
  }
 ],
 "metadata": {
  "kernelspec": {
   "display_name": "Python 3",
   "language": "python",
   "name": "python3"
  },
  "language_info": {
   "codemirror_mode": {
    "name": "ipython",
    "version": 3
   },
   "file_extension": ".py",
   "mimetype": "text/x-python",
   "name": "python",
   "nbconvert_exporter": "python",
   "pygments_lexer": "ipython3",
   "version": "3.7.6"
  }
 },
 "nbformat": 4,
 "nbformat_minor": 4
}
