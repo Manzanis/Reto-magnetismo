{
 "cells": [
  {
   "cell_type": "code",
   "execution_count": 1,
   "metadata": {},
   "outputs": [],
   "source": [
    "import numpy as np\n",
    "import matplotlib.pyplot as plt\n",
    "from tqdm import tqdm_notebook"
   ]
  },
  {
   "cell_type": "code",
   "execution_count": 2,
   "metadata": {},
   "outputs": [],
   "source": [
    "grav = 9.81\n",
    "\n",
    "# Masa del dipolo\n",
    "m = 0.01\n",
    "\n",
    "# es la permeabilidad máxima del MetGlass\n",
    "mu = 1e6\n",
    "\n",
    "# Permeabilidad del espacio libre\n",
    "mu_0 = 4*np.pi*1e-7\n",
    "\n",
    "# Radio del anillo de corriente\n",
    "a = 0.08\n",
    "\n",
    "# Resistividad\n",
    "R = 9e-5"
   ]
  },
  {
   "cell_type": "code",
   "execution_count": 3,
   "metadata": {},
   "outputs": [],
   "source": [
    "k =(9*((mu*mu_0)**2)*(a**4))/(4*R)\n"
   ]
  },
  {
   "cell_type": "code",
   "execution_count": 4,
   "metadata": {},
   "outputs": [],
   "source": [
    "\n",
    "def p(z):\n",
    "    pz= (z**2)/(np.sqrt((z**2)+(a**2))**5)\n",
    "    return pz\n",
    "\n",
    "def f(y):\n",
    "    ft= y\n",
    "    return ft\n",
    "\n",
    "def g(x,y):\n",
    "    gt=-grav-(k/m)*p(x)*y\n",
    "    return gt"
   ]
  },
  {
   "cell_type": "code",
   "execution_count": 5,
   "metadata": {},
   "outputs": [],
   "source": [
    "t_0 = 0\n",
    "# Timpo final\n",
    "t_f = 6\n",
    "\n",
    "# Altura Inicial z_0\n",
    "x_0 = 10\n",
    "# Velocidad Inicial z'_0\n",
    "y_0 = 0"
   ]
  },
  {
   "cell_type": "code",
   "execution_count": 6,
   "metadata": {},
   "outputs": [],
   "source": [
    "h=0.001\n",
    "\n",
    "N=int((t_f-t_0)/h)\n",
    "\n",
    "t=np.linspace(t_0,t_f,N)\n",
    "\n",
    "\n",
    "    "
   ]
  },
  {
   "cell_type": "code",
   "execution_count": 7,
   "metadata": {},
   "outputs": [
    {
     "name": "stderr",
     "output_type": "stream",
     "text": [
      "C:\\Users\\Joe\\anaconda3\\lib\\site-packages\\ipykernel_launcher.py:6: TqdmDeprecationWarning: This function will be removed in tqdm==5.0.0\n",
      "Please use `tqdm.notebook.tqdm` instead of `tqdm.tqdm_notebook`\n",
      "  \n"
     ]
    },
    {
     "data": {
      "application/vnd.jupyter.widget-view+json": {
       "model_id": "8fccbe7022ee4e54b653719fafddb85b",
       "version_major": 2,
       "version_minor": 0
      },
      "text/plain": [
       "HBox(children=(FloatProgress(value=0.0, max=6000.0), HTML(value='')))"
      ]
     },
     "metadata": {},
     "output_type": "display_data"
    },
    {
     "name": "stdout",
     "output_type": "stream",
     "text": [
      "\n"
     ]
    }
   ],
   "source": [
    "all_xs=[]\n",
    "all_ys=[]\n",
    "\n",
    "x_n=x_0\n",
    "y_n=y_0\n",
    "for tn in tqdm_notebook(t):\n",
    "    \n",
    "    kx1=f(y_n)\n",
    "    ky1=g(x_n,y_n)\n",
    "    \n",
    "    kx2=f(y_n+ (h/2)*ky1)\n",
    "    ky2=g(x_n+(h/2)*kx1,y_n+(h/2)*ky1)\n",
    "    \n",
    "    kx3=f(y_n+ (h/2)*ky2)\n",
    "    ky3=g(x_n+(h/2)*kx2,y_n+(h/2)*ky2)\n",
    "    \n",
    "    kx4=f(y_n+h*ky3)\n",
    "    ky4=g(x_n+h*ky3,y_n+h*ky3)\n",
    "    \n",
    "    x_n = x_n+(h/6)*(kx1+2*kx2+2*kx3+kx4)\n",
    "    y_n = y_n+(h/6)*(ky1+2*ky2+2*ky3+ky4)\n",
    "    \n",
    "    all_xs.append(x_n)\n",
    "    all_ys.append(y_n)\n",
    "    \n",
    "    "
   ]
  },
  {
   "cell_type": "code",
   "execution_count": 8,
   "metadata": {},
   "outputs": [
    {
     "data": {
      "text/plain": [
       "Text(0, 0.5, 'Velocidad [m/s]')"
      ]
     },
     "execution_count": 8,
     "metadata": {},
     "output_type": "execute_result"
    },
    {
     "data": {
      "image/png": "[encoded data removed]",
      "text/plain": [
       "<Figure size 864x216 with 2 Axes>"
      ]
     },
     "metadata": {
      "needs_background": "light"
     },
     "output_type": "display_data"
    }
   ],
   "source": [
    "\n",
    "plt.figure(figsize=(12,3))\n",
    "\n",
    "plt.subplot(1,2,1)\n",
    "\n",
    "plt.plot(t,all_xs)\n",
    "plt.title(\"Altura de Dipolo con Frenado Magnético\")\n",
    "plt.xlabel(\"Tiempo [s]\")\n",
    "plt.ylabel(\"Altura [m]\")\n",
    "\n",
    "plt.subplot(1,2,2)\n",
    "plt.plot(t,all_ys)\n",
    "plt.title(\"Velocidad de Dipolo con Frenado Magnético\")\n",
    "plt.xlabel(\"Tiempo [s]\")\n",
    "plt.ylabel(\"Velocidad [m/s]\")"
   ]
  },
  {
   "cell_type": "code",
   "execution_count": null,
   "metadata": {},
   "outputs": [],
   "source": []
  }
 ],
 "metadata": {
  "kernelspec": {
   "display_name": "Python 3",
   "language": "python",
   "name": "python3"
  },
  "language_info": {
   "codemirror_mode": {
    "name": "ipython",
    "version": 3
   },
   "file_extension": ".py",
   "mimetype": "text/x-python",
   "name": "python",
   "nbconvert_exporter": "python",
   "pygments_lexer": "ipython3",
   "version": "3.7.6"
  }
 },
 "nbformat": 4,
 "nbformat_minor": 4
}
